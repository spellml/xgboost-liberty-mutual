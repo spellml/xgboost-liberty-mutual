{
 "cells": [
  {
   "cell_type": "code",
   "execution_count": 3,
   "metadata": {},
   "outputs": [
    {
     "name": "stdout",
     "output_type": "stream",
     "text": [
      "Writing ../models/train_basic.py\n"
     ]
    }
   ],
   "source": [
    "%%writefile ../models/train_basic.py\n",
    "import pandas as pd\n",
    "import numpy as np \n",
    "from sklearn import preprocessing\n",
    "import xgboost as xgb\n",
    "\n",
    "datadir = '/mnt/liberty-mutual-group-property-inspection-prediction'\n",
    "train = pd.read_csv(f'{datadir}/train.csv', index_col=0)\n",
    "test = pd.read_csv(f'{datadir}/test.csv', index_col=0)\n",
    "\n",
    "y = train.Hazard\n",
    "train.drop('Hazard', axis=1, inplace=True)\n",
    "\n",
    "columns = train.columns\n",
    "\n",
    "X_train, X_test = np.array(train), np.array(test)\n",
    "\n",
    "# some variables are numeric, some variables are string categorical, we need to label encode the\n",
    "# categorical ones\n",
    "for i in range(X_train.shape[1]):\n",
    "    if type(X_train[1, i]) is str:\n",
    "        lbl = preprocessing.LabelEncoder()\n",
    "        lbl.fit(list(X_train[:, i]) + list(X_test[:, i]))\n",
    "        X_train[:, i] = lbl.transform(X_train[:, i])\n",
    "        X_test[:, i] = lbl.transform(X_test[:, i])\n",
    "\n",
    "X_train, X_test = X_train.astype(float), X_test.astype(float)\n",
    "\n",
    "params = {\n",
    "    \"objective\": \"reg:squarederror\",\n",
    "    \"eta\": 0.01,\n",
    "    \"min_child_weight\": 5,\n",
    "    \"subsample\": 0.8,\n",
    "    \"scale_pos_weight\": 1.0,\n",
    "    \"max_depth\": 7,\n",
    "    \"verbosity\": 1\n",
    "}\n",
    "params = list(params.items())\n",
    "\n",
    "# Use 5000 rows (~10% of the dataset) as the validation set.\n",
    "X_valid_split_idx = 5000\n",
    "num_rounds = 2000\n",
    "\n",
    "# create train, validation, and test dmatrices\n",
    "xgtrain = xgb.DMatrix(X_train[X_valid_split_idx:,:], label=y[X_valid_split_idx:])\n",
    "xgval = xgb.DMatrix(X_train[:X_valid_split_idx,:], label=y[:X_valid_split_idx])\n",
    "xgtest = xgb.DMatrix(X_test)\n",
    "\n",
    "# train using early stopping and predict\n",
    "watchlist = [(xgtrain, 'train'), (xgval, 'val')]\n",
    "model = xgb.train(params, xgtrain, num_rounds, watchlist, early_stopping_rounds=5)\n",
    "\n",
    "# Generate predictions and save them to disk.\n",
    "y_test_pred = model.predict(xgtest)\n",
    "(pd.DataFrame({\"Id\": test.index, \"Hazard\": y_test_pred})\n",
    " .set_index(\"Id\")\n",
    " .to_csv(\"/spell/predictions.csv\"))"
   ]
  }
 ],
 "metadata": {
  "kernelspec": {
   "display_name": "Python 3",
   "language": "python",
   "name": "python3"
  },
  "language_info": {
   "codemirror_mode": {
    "name": "ipython",
    "version": 3
   },
   "file_extension": ".py",
   "mimetype": "text/x-python",
   "name": "python",
   "nbconvert_exporter": "python",
   "pygments_lexer": "ipython3",
   "version": "3.7.8"
  }
 },
 "nbformat": 4,
 "nbformat_minor": 4
}
